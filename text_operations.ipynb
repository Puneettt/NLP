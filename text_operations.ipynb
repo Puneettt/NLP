{
 "cells": [
  {
   "cell_type": "code",
   "execution_count": 398,
   "id": "ec92426a",
   "metadata": {},
   "outputs": [
    {
     "data": {
      "text/plain": [
       "['h', 'e', 'a', 'i', 'i', 'a', 'i']"
      ]
     },
     "execution_count": 398,
     "metadata": {},
     "output_type": "execute_result"
    }
   ],
   "source": [
    "import re\n",
    "\n",
    "txt = \"The rain in Spain\"\n",
    "\n",
    "#Find all lower case characters alphabetically between \"a\" and \"m\":\n",
    "re.findall('[a-m]', txt)"
   ]
  },
  {
   "cell_type": "code",
   "execution_count": 7,
   "id": "617952f1",
   "metadata": {},
   "outputs": [
    {
     "data": {
      "text/plain": [
       "['59']"
      ]
     },
     "execution_count": 7,
     "metadata": {},
     "output_type": "execute_result"
    }
   ],
   "source": [
    "txt = \"That will be 59 dollars\"\n",
    "\n",
    "#Find all digit characters:\n",
    "re.findall(r'\\d+', txt)\n",
    "\n",
    "\n",
    "\n",
    "#re.findall('\\d', txt)  #\\D will be all characters except digits"
   ]
  },
  {
   "cell_type": "code",
   "execution_count": 9,
   "id": "1f4b0f27",
   "metadata": {},
   "outputs": [
    {
     "data": {
      "text/plain": [
       "['hello']"
      ]
     },
     "execution_count": 9,
     "metadata": {},
     "output_type": "execute_result"
    }
   ],
   "source": [
    "txt = \"hello planet\"\n",
    "\n",
    "#Search for a sequence that starts with \"he\", followed by two (any) characters, and an \"o\":\n",
    "\n",
    " \n",
    "\n",
    "re.findall('he..o', txt)"
   ]
  },
  {
   "cell_type": "code",
   "execution_count": 26,
   "id": "01960fad",
   "metadata": {},
   "outputs": [
    {
     "data": {
      "text/plain": [
       "['hello']"
      ]
     },
     "execution_count": 26,
     "metadata": {},
     "output_type": "execute_result"
    }
   ],
   "source": [
    "txt = \"hello planet\"\n",
    "\n",
    "#Check if the string starts with 'hello':\n",
    "re.findall(r'^helo', txt)\n",
    "\n",
    "\n",
    "\n",
    "# x = re.findall(\"^hello\", txt)\n",
    "# if x:\n",
    "#     print('True')\n",
    "# else:\n",
    "#     False"
   ]
  },
  {
   "cell_type": "code",
   "execution_count": 34,
   "id": "7a0597d4",
   "metadata": {},
   "outputs": [
    {
     "data": {
      "text/plain": [
       "['falls', 'mainly']"
      ]
     },
     "execution_count": 34,
     "metadata": {},
     "output_type": "execute_result"
    }
   ],
   "source": [
    "import re\n",
    "\n",
    "txt = \"The rain in Spain falls mainly in the plain!\"\n",
    "\n",
    "#Check if the string contains either \"falls\" or \"stays\":\n",
    "#re.findall(r'falls|stays', txt)\n",
    "re.findall(r'falls|mainly', txt)\n",
    "\n",
    "\n",
    "\n",
    "\n",
    "\n",
    "#re.findall('falls|stays', txt)"
   ]
  },
  {
   "cell_type": "code",
   "execution_count": 16,
   "id": "a1bb1ffe",
   "metadata": {},
   "outputs": [
    {
     "data": {
      "text/plain": [
       "['hello']"
      ]
     },
     "execution_count": 16,
     "metadata": {},
     "output_type": "execute_result"
    }
   ],
   "source": [
    "import re\n",
    "\n",
    "txt = \"hello planet\"\n",
    "\n",
    "#Search for a sequence that starts with \"he\", followed excactly 2 (any) characters, and an \"o\":\n",
    "\n",
    "re.findall('^he..o', txt)"
   ]
  },
  {
   "cell_type": "code",
   "execution_count": 38,
   "id": "3865ebc7",
   "metadata": {},
   "outputs": [
    {
     "data": {
      "text/plain": [
       "['helljhikjjo planet, hello']"
      ]
     },
     "execution_count": 38,
     "metadata": {},
     "output_type": "execute_result"
    }
   ],
   "source": [
    "import re\n",
    "\n",
    "txt = \"helljhikjjo planet, hello\"\n",
    "\n",
    "re.findall('he.+o', txt)\n",
    "#Search for a sequence that starts with \"he\", followed by 1 or more  (any) characters, and an \"o\":\n",
    "\n",
    "#re.findall('^he.+o', txt)"
   ]
  },
  {
   "cell_type": "code",
   "execution_count": 43,
   "id": "c1ffd46f",
   "metadata": {},
   "outputs": [
    {
     "data": {
      "text/plain": [
       "['he hello']"
      ]
     },
     "execution_count": 43,
     "metadata": {},
     "output_type": "execute_result"
    }
   ],
   "source": [
    "import re\n",
    "\n",
    "txt = \"he hello planet\"\n",
    "#Search for a sequence that starts with \"he\", followed by 0 or more  (any) characters, and an \"o\": \n",
    "\n",
    "re.findall('he.*o', txt)"
   ]
  },
  {
   "cell_type": "code",
   "execution_count": 50,
   "id": "573678f3",
   "metadata": {},
   "outputs": [
    {
     "data": {
      "text/plain": [
       "['planet']"
      ]
     },
     "execution_count": 50,
     "metadata": {},
     "output_type": "execute_result"
    }
   ],
   "source": [
    "import re\n",
    "\n",
    "txt = \"hello planet\"\n",
    "\n",
    "re.findall('planet$', txt)\n",
    "\n",
    "#Check if the string ends with 'planet':\n",
    "#re.findall('planet$', txt)"
   ]
  },
  {
   "cell_type": "code",
   "execution_count": 55,
   "id": "48fa566c",
   "metadata": {},
   "outputs": [
    {
     "data": {
      "text/plain": [
       "['The']"
      ]
     },
     "execution_count": 55,
     "metadata": {},
     "output_type": "execute_result"
    }
   ],
   "source": [
    "import re\n",
    "\n",
    "txt = \"The rain in Spain\"\n",
    "\n",
    "#Check if the string starts with \"The\":\n",
    "re.findall('\\AThe', txt)"
   ]
  },
  {
   "cell_type": "code",
   "execution_count": 386,
   "id": "71ed4dc6",
   "metadata": {},
   "outputs": [
    {
     "name": "stdout",
     "output_type": "stream",
     "text": [
      "['rai']\n",
      "True\n"
     ]
    }
   ],
   "source": [
    "import re\n",
    "\n",
    "txt = \"The rain in Spain\"\n",
    "\n",
    "#Check if \"rai\" is present at the beginning of a WORD:\n",
    "\n",
    "x = re.findall(r\"\\brai\", txt)\n",
    "print(x)\n",
    "\n",
    "if x:\n",
    "    print('True')"
   ]
  },
  {
   "cell_type": "code",
   "execution_count": 387,
   "id": "e7fe50fe",
   "metadata": {},
   "outputs": [
    {
     "name": "stdout",
     "output_type": "stream",
     "text": [
      "['ain', 'ain']\n"
     ]
    }
   ],
   "source": [
    "txt = \"The rain in Spain c\"\n",
    "\n",
    "#Check if \"ain\" is present at the end of a WORD:\n",
    "\n",
    "x = re.findall(r'ain\\b', txt); print(x)"
   ]
  },
  {
   "cell_type": "code",
   "execution_count": 63,
   "id": "872c3feb",
   "metadata": {},
   "outputs": [
    {
     "name": "stdout",
     "output_type": "stream",
     "text": [
      "['ain', 'ain']\n"
     ]
    }
   ],
   "source": [
    "import re\n",
    "\n",
    "txt = \"The rain in Spain\"\n",
    "\n",
    "#Check if \"ain\" is present, but NOT at the beginning of a word:\n",
    "\n",
    "x = re.findall(r'\\Bain', txt); print(x)"
   ]
  },
  {
   "cell_type": "code",
   "execution_count": 111,
   "id": "7ca146aa",
   "metadata": {},
   "outputs": [
    {
     "name": "stdout",
     "output_type": "stream",
     "text": [
      "['0', '9', '9', '8', '0', '9', '8', '9', '8', '0', '0', '9', '0', '8']\n",
      "['09980', '98', '980', '0908']\n",
      "['The rain in Spain', ' ', ', ', '    ']\n",
      "['T', 'h', 'e', ' ', 'r', 'a', 'i', 'n', ' ', 'i', 'n', ' ', 'S', 'p', 'a', 'i', 'n', ' ', ',', ' ', ' ', ' ', ' ', ' ']\n"
     ]
    }
   ],
   "source": [
    "import re\n",
    "\n",
    "txt = \"The rain in Spain09980 98, 980    0908\"\n",
    "\n",
    "#Check if the string contains any digits (numbers from 0-9):\n",
    "\n",
    "x = re.findall('\\d', txt); print(x) # all digit characters\n",
    "x = re.findall('\\d+', txt); print(x) # all multiple digit characters separated by spaces\n",
    "\n",
    "x = re.findall('\\D+', txt); print(x) # all words and spaces except digits\n",
    "\n",
    "x = re.findall('\\D', txt); print(x) # all charactors and spaces except digits"
   ]
  },
  {
   "cell_type": "code",
   "execution_count": 117,
   "id": "881f207b",
   "metadata": {},
   "outputs": [
    {
     "name": "stdout",
     "output_type": "stream",
     "text": [
      "[' ', ' ', ' ']\n"
     ]
    }
   ],
   "source": [
    "import re\n",
    "\n",
    "txt = \"The rain in Spain\"\n",
    "\n",
    "#Return a match at every white-space character:\n",
    "\n",
    "print(re.findall('\\s', txt))\n",
    "\n"
   ]
  },
  {
   "cell_type": "code",
   "execution_count": 130,
   "id": "e7b5ba68",
   "metadata": {},
   "outputs": [],
   "source": [
    "text = 'I have donejhjkh  a lot of work at rupees 78900.0 dollars,...but wait!!!'\n",
    "\n"
   ]
  },
  {
   "cell_type": "code",
   "execution_count": 131,
   "id": "ba1964f8-6299-40e8-9cdf-e5945e1bbf00",
   "metadata": {},
   "outputs": [
    {
     "data": {
      "text/plain": [
       "'I have donejhjkh  a lot of work at rupees 78900.0 dollars,...but wait!!!'"
      ]
     },
     "execution_count": 131,
     "metadata": {},
     "output_type": "execute_result"
    }
   ],
   "source": [
    "text"
   ]
  },
  {
   "cell_type": "code",
   "execution_count": 132,
   "id": "2f47ef5f-6c33-4978-a1e2-67720a81d28d",
   "metadata": {},
   "outputs": [
    {
     "data": {
      "text/plain": [
       "'I have donejhjkh a lot of work at rupees 78900 0 dollars but wait'"
      ]
     },
     "execution_count": 132,
     "metadata": {},
     "output_type": "execute_result"
    }
   ],
   "source": [
    "text = re.findall('[A-z0-9]+', text)\n",
    "text = ' '.join(text); text"
   ]
  },
  {
   "cell_type": "code",
   "execution_count": 133,
   "id": "79355ed3-1ed9-415e-ad97-f4f5a0904a50",
   "metadata": {},
   "outputs": [
    {
     "data": {
      "text/plain": [
       "['78900', '0']"
      ]
     },
     "execution_count": 133,
     "metadata": {},
     "output_type": "execute_result"
    }
   ],
   "source": [
    "re.findall(r'\\d+', text)"
   ]
  },
  {
   "cell_type": "code",
   "execution_count": 134,
   "id": "d01914a1-5e0c-4936-bdce-5d8f1e8196f8",
   "metadata": {},
   "outputs": [
    {
     "data": {
      "text/plain": [
       "['wait']"
      ]
     },
     "execution_count": 134,
     "metadata": {},
     "output_type": "execute_result"
    }
   ],
   "source": [
    "re.findall('wait$', text)"
   ]
  },
  {
   "cell_type": "code",
   "execution_count": 135,
   "id": "ce019688-53b4-4e78-9cba-422d30277479",
   "metadata": {},
   "outputs": [
    {
     "data": {
      "text/plain": [
       "'I have donejhjkh a lot of work at rupees 78900 0 dollars but wait'"
      ]
     },
     "execution_count": 135,
     "metadata": {},
     "output_type": "execute_result"
    }
   ],
   "source": [
    "text"
   ]
  },
  {
   "cell_type": "code",
   "execution_count": 267,
   "id": "2300fa13-bcd3-4d52-a859-eee4e2aabdff",
   "metadata": {},
   "outputs": [
    {
     "data": {
      "text/plain": [
       "['donejhjkh a lot of work at rupees 78900 0 dollars but wait']"
      ]
     },
     "execution_count": 267,
     "metadata": {},
     "output_type": "execute_result"
    }
   ],
   "source": [
    "re.findall(r'\\bd.+', text)"
   ]
  },
  {
   "cell_type": "code",
   "execution_count": 152,
   "id": "281b6829-24a9-4311-9cc6-90ed66712e2c",
   "metadata": {},
   "outputs": [
    {
     "data": {
      "text/plain": [
       "['lars but wait']"
      ]
     },
     "execution_count": 152,
     "metadata": {},
     "output_type": "execute_result"
    }
   ],
   "source": [
    "re.findall(r'lars.+\\b', text)"
   ]
  },
  {
   "cell_type": "code",
   "execution_count": 159,
   "id": "cc5146b6-fd91-4e8a-aed6-19d592df679e",
   "metadata": {},
   "outputs": [
    {
     "data": {
      "text/plain": [
       "['I have donejhjkh a lot of work at rupees 78900 0 dollars but wait']"
      ]
     },
     "execution_count": 159,
     "metadata": {},
     "output_type": "execute_result"
    }
   ],
   "source": [
    "re.findall(r'.+pee.+', text)"
   ]
  },
  {
   "cell_type": "code",
   "execution_count": 166,
   "id": "77e41e76-c6cd-47ac-9315-ad4adcb6d6e4",
   "metadata": {},
   "outputs": [
    {
     "data": {
      "text/plain": [
       "['donejhjkh a lot of work at rupees 78900 0 dollars but wait']"
      ]
     },
     "execution_count": 166,
     "metadata": {},
     "output_type": "execute_result"
    }
   ],
   "source": [
    "re.findall(r'\\bdon', text)"
   ]
  },
  {
   "cell_type": "code",
   "execution_count": 172,
   "id": "4954fb7e-6b9c-4a85-bf1e-a99fb2f07f0f",
   "metadata": {},
   "outputs": [
    {
     "data": {
      "text/plain": [
       "'abcdef'"
      ]
     },
     "execution_count": 172,
     "metadata": {},
     "output_type": "execute_result"
    }
   ],
   "source": [
    "' abcdef '.strip()\n"
   ]
  },
  {
   "cell_type": "code",
   "execution_count": 176,
   "id": "1192f043-aef8-4cc0-bd5c-1b417b079ebc",
   "metadata": {},
   "outputs": [
    {
     "data": {
      "text/plain": [
       "'cdef'"
      ]
     },
     "execution_count": 176,
     "metadata": {},
     "output_type": "execute_result"
    }
   ],
   "source": [
    "'abcdef'[-4:]"
   ]
  },
  {
   "cell_type": "code",
   "execution_count": 181,
   "id": "10c67b57-270a-4bb6-9a34-58f6dcae6fb0",
   "metadata": {},
   "outputs": [
    {
     "data": {
      "text/plain": [
       "'I have donejhjkh a lot of work at rupees 78900 0 dollars but wait'"
      ]
     },
     "execution_count": 181,
     "metadata": {},
     "output_type": "execute_result"
    }
   ],
   "source": [
    "text"
   ]
  },
  {
   "cell_type": "code",
   "execution_count": 229,
   "id": "79e42896-1025-49aa-aacd-722c7b0871e9",
   "metadata": {},
   "outputs": [
    {
     "data": {
      "text/plain": [
       "[]"
      ]
     },
     "execution_count": 229,
     "metadata": {},
     "output_type": "execute_result"
    }
   ],
   "source": [
    "re.findall(r'\\do.*s', text)"
   ]
  },
  {
   "cell_type": "code",
   "execution_count": 213,
   "id": "292c3636-5289-4281-ac08-b03993b3928b",
   "metadata": {},
   "outputs": [
    {
     "data": {
      "text/plain": [
       "['have donejhjkh a lot of work at rupees 78900 0 dollars but wait']"
      ]
     },
     "execution_count": 213,
     "metadata": {},
     "output_type": "execute_result"
    }
   ],
   "source": [
    "re.findall(r'\\bh.+', text)"
   ]
  },
  {
   "cell_type": "code",
   "execution_count": 221,
   "id": "6b2073d7-3036-4e39-8206-2e84506db022",
   "metadata": {},
   "outputs": [
    {
     "data": {
      "text/plain": [
       "['78900 0']"
      ]
     },
     "execution_count": 221,
     "metadata": {},
     "output_type": "execute_result"
    }
   ],
   "source": [
    "re.findall(r'\\d.+\\d', text)"
   ]
  },
  {
   "cell_type": "code",
   "execution_count": 232,
   "id": "6b84a6d8-f727-44c7-b9b4-0b6f238c0c13",
   "metadata": {},
   "outputs": [
    {
     "data": {
      "text/plain": [
       "['donejhj']"
      ]
     },
     "execution_count": 232,
     "metadata": {},
     "output_type": "execute_result"
    }
   ],
   "source": [
    "re.findall(r'd.*j', text) # greeedy algo"
   ]
  },
  {
   "cell_type": "code",
   "execution_count": 233,
   "id": "453f6c94-0931-4fc8-ba8d-3d24ce8ccb4b",
   "metadata": {},
   "outputs": [
    {
     "data": {
      "text/plain": [
       "['donej']"
      ]
     },
     "execution_count": 233,
     "metadata": {},
     "output_type": "execute_result"
    }
   ],
   "source": [
    " re.findall(r'd.*?j', text) # non greedy, return the first match only"
   ]
  },
  {
   "cell_type": "markdown",
   "id": "4bfeecd9-5e2a-4e15-acbd-145489f3cb33",
   "metadata": {},
   "source": [
    "## mid part"
   ]
  },
  {
   "cell_type": "code",
   "execution_count": 237,
   "id": "c9cf1799-595f-421b-bded-cc2dc7166c12",
   "metadata": {},
   "outputs": [
    {
     "data": {
      "text/plain": [
       "['onejh']"
      ]
     },
     "execution_count": 237,
     "metadata": {},
     "output_type": "execute_result"
    }
   ],
   "source": [
    "re.findall(r'd(.*)j', text)  # matched last "
   ]
  },
  {
   "cell_type": "code",
   "execution_count": 239,
   "id": "baf3e51b-13f8-48a1-a96f-d125b8673bff",
   "metadata": {},
   "outputs": [
    {
     "data": {
      "text/plain": [
       "['one']"
      ]
     },
     "execution_count": 239,
     "metadata": {},
     "output_type": "execute_result"
    }
   ],
   "source": [
    "re.findall(r'd(.*?)j', text)  # matched to first"
   ]
  },
  {
   "cell_type": "code",
   "execution_count": 244,
   "id": "16b1bddf-3ae9-4871-9375-3203132b67a7",
   "metadata": {},
   "outputs": [
    {
     "data": {
      "text/plain": [
       "'I have donejhjkh a lot of work at rupees 78900 0 dollars but wait'"
      ]
     },
     "execution_count": 244,
     "metadata": {},
     "output_type": "execute_result"
    }
   ],
   "source": [
    "text"
   ]
  },
  {
   "cell_type": "code",
   "execution_count": 254,
   "id": "dd03d072-85f8-4bd1-b3fd-118eb722b1d8",
   "metadata": {},
   "outputs": [
    {
     "data": {
      "text/plain": [
       "['78900', '0']"
      ]
     },
     "execution_count": 254,
     "metadata": {},
     "output_type": "execute_result"
    }
   ],
   "source": [
    "re.findall(r'\\d+', text)"
   ]
  },
  {
   "cell_type": "code",
   "execution_count": 284,
   "id": "e6dd4eb7-3e53-4e69-9882-0e4732f3e696",
   "metadata": {},
   "outputs": [
    {
     "data": {
      "text/plain": [
       "['have',\n",
       " 'donejhjkh',\n",
       " 'a',\n",
       " 'lot',\n",
       " 'of',\n",
       " 'work',\n",
       " 'at',\n",
       " 'rupees',\n",
       " 'dollars',\n",
       " 'but',\n",
       " 'wait']"
      ]
     },
     "execution_count": 284,
     "metadata": {},
     "output_type": "execute_result"
    }
   ],
   "source": [
    "re.findall(r'[a-z]+', text)"
   ]
  },
  {
   "cell_type": "code",
   "execution_count": 286,
   "id": "4b5db2ed-8b62-4b38-bc19-6828db77fd04",
   "metadata": {},
   "outputs": [
    {
     "data": {
      "text/plain": [
       "['have',\n",
       " 'donejhjkh',\n",
       " 'a',\n",
       " 'lot',\n",
       " 'of',\n",
       " 'work',\n",
       " 'at',\n",
       " 'rupees',\n",
       " '78900',\n",
       " '0',\n",
       " 'dollars',\n",
       " 'but',\n",
       " 'wait']"
      ]
     },
     "execution_count": 286,
     "metadata": {},
     "output_type": "execute_result"
    }
   ],
   "source": [
    "re.findall(r'[a-z]+|\\d+', text)"
   ]
  },
  {
   "cell_type": "code",
   "execution_count": 294,
   "id": "bee0ac2c-9257-4a55-ad60-61eff4ebfee6",
   "metadata": {},
   "outputs": [
    {
     "data": {
      "text/plain": [
       "['puneet65717@gmail.com']"
      ]
     },
     "execution_count": 294,
     "metadata": {},
     "output_type": "execute_result"
    }
   ],
   "source": [
    "re.findall(r'[a-z]+\\d+\\@[a-z]+\\.[a-z]+', 'puneet65717@gmail.com')"
   ]
  },
  {
   "cell_type": "code",
   "execution_count": 295,
   "id": "3354330d-08b1-47ab-8957-cdca4fc7c009",
   "metadata": {},
   "outputs": [
    {
     "data": {
      "text/plain": [
       "'I have donejhjkh a lot of work at rupees 78900 0 dollars but wait'"
      ]
     },
     "execution_count": 295,
     "metadata": {},
     "output_type": "execute_result"
    }
   ],
   "source": [
    "text"
   ]
  },
  {
   "cell_type": "code",
   "execution_count": 296,
   "id": "6ce64b87-8163-475b-a940-6b9f29df88a4",
   "metadata": {},
   "outputs": [
    {
     "data": {
      "text/plain": [
       "7"
      ]
     },
     "execution_count": 296,
     "metadata": {},
     "output_type": "execute_result"
    }
   ],
   "source": [
    "text.find('done') # to get index"
   ]
  },
  {
   "cell_type": "code",
   "execution_count": 300,
   "id": "e8f473fa-a289-4e1a-94aa-6d42a634b4b8",
   "metadata": {},
   "outputs": [
    {
     "data": {
      "text/plain": [
       "['hav', 'lot']"
      ]
     },
     "execution_count": 300,
     "metadata": {},
     "output_type": "execute_result"
    }
   ],
   "source": [
    "re.findall('hav|lot', text)"
   ]
  },
  {
   "cell_type": "code",
   "execution_count": 388,
   "id": "e65581a8-4135-4163-bd52-c054b2507e28",
   "metadata": {},
   "outputs": [],
   "source": [
    "text = 'I have donejhjkh a lot of work at rupees 78900 0 do000llars but wait'"
   ]
  },
  {
   "cell_type": "code",
   "execution_count": null,
   "id": "8c58e5af-c945-4685-b8d1-43f54fa834d0",
   "metadata": {},
   "outputs": [],
   "source": []
  },
  {
   "cell_type": "code",
   "execution_count": null,
   "id": "f11536c5-88b7-4e82-9325-b8d615942e8d",
   "metadata": {},
   "outputs": [],
   "source": []
  },
  {
   "cell_type": "code",
   "execution_count": 331,
   "id": "02d290c1-8d51-4a98-a661-a1655fe9327e",
   "metadata": {},
   "outputs": [
    {
     "data": {
      "text/plain": [
       "['have donejhjkh a lot of work at rupees 78900 0 do000llars but wait']"
      ]
     },
     "execution_count": 331,
     "metadata": {},
     "output_type": "execute_result"
    }
   ],
   "source": [
    "re.findall(r'(\\bh.*)', text)"
   ]
  },
  {
   "cell_type": "code",
   "execution_count": 325,
   "id": "0b4d324a-a43b-453f-abf2-98837798ed39",
   "metadata": {},
   "outputs": [
    {
     "data": {
      "text/plain": [
       "'I x x x x x x x x 78900 0 x000x x x'"
      ]
     },
     "execution_count": 325,
     "metadata": {},
     "output_type": "execute_result"
    }
   ],
   "source": [
    "re.sub('[a-z]+', 'x', text)"
   ]
  },
  {
   "cell_type": "code",
   "execution_count": 342,
   "id": "a50509e7-6609-40d6-bf23-9d1516bb6aac",
   "metadata": {},
   "outputs": [
    {
     "data": {
      "text/plain": [
       "['cat-one']"
      ]
     },
     "execution_count": 342,
     "metadata": {},
     "output_type": "execute_result"
    }
   ],
   "source": [
    "str1 = \"cat-one,cat2,cat-3\"\n",
    "re.findall('[a-z]+\\-[a-z]+', str1)"
   ]
  },
  {
   "cell_type": "code",
   "execution_count": 380,
   "id": "c5eba2a8-04aa-46ed-ac14-2cee25844bd2",
   "metadata": {},
   "outputs": [
    {
     "data": {
      "text/plain": [
       "['do000llars but ']"
      ]
     },
     "execution_count": 380,
     "metadata": {},
     "output_type": "execute_result"
    }
   ],
   "source": [
    "re.findall(r'([a-z]+\\d.*\\s)', text)"
   ]
  }
 ],
 "metadata": {
  "kernelspec": {
   "display_name": "Python 3 (ipykernel)",
   "language": "python",
   "name": "python3"
  },
  "language_info": {
   "codemirror_mode": {
    "name": "ipython",
    "version": 3
   },
   "file_extension": ".py",
   "mimetype": "text/x-python",
   "name": "python",
   "nbconvert_exporter": "python",
   "pygments_lexer": "ipython3",
   "version": "3.11.7"
  }
 },
 "nbformat": 4,
 "nbformat_minor": 5
}
